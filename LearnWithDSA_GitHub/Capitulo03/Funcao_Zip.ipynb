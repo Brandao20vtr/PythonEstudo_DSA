{
 "cells": [
  {
   "cell_type": "markdown",
   "id": "8ac65eb7",
   "metadata": {},
   "source": [
    "# Zip e Enumerate\n",
    "### Zip()\n",
    "A função zip() agrega os valores de duas sequências e retorna uma tupla.\n",
    "\n",
    "zip() pode ser usado quando o número de elementos for diferente em cada sequência. Mas o objeto resulante terá o mesmo número de elementos da sequência menor.\n",
    "\n",
    "**Exemplo:**\n",
    "\n",
    "    Entrada: zip([1, 2, 3, 4], [1, 2, 3])\n",
    "    Saída: (1, 1) (2, 2) (3, 3)\n",
    "    \n",
    "### Enumerate()\n",
    "A função enumerate permite retornar o índece de cada valor em uma sequência, a medida que você percorre toda a sequência. **Recebe apenas um parâmetro.**\n",
    "\n",
    "Retorna uma tupl no formato tupla(índice, valor).\n",
    "\n",
    "**Exemplo:**\n",
    "\n",
    "    enumerate(sequência)"
   ]
  },
  {
   "cell_type": "markdown",
   "id": "a8fc60f1",
   "metadata": {},
   "source": [
    "# Zip"
   ]
  },
  {
   "cell_type": "code",
   "execution_count": 1,
   "id": "25b7551e",
   "metadata": {},
   "outputs": [],
   "source": [
    "# Criando duas listas\n",
    "x = [1, 2, 3]\n",
    "y = [4, 5, 6]"
   ]
  },
  {
   "cell_type": "code",
   "execution_count": 2,
   "id": "5cf3e3da",
   "metadata": {},
   "outputs": [
    {
     "data": {
      "text/plain": [
       "[(1, 4), (2, 5), (3, 6)]"
      ]
     },
     "execution_count": 2,
     "metadata": {},
     "output_type": "execute_result"
    }
   ],
   "source": [
    "# Unindo as listas\n",
    "zip(x, y)   # Em Python3 isso retorna apenas um iterator\n",
    "\n",
    "# Para conseguir visualizar o resultado podemos converter para lista\n",
    "list(zip(x, y))"
   ]
  },
  {
   "cell_type": "code",
   "execution_count": 3,
   "id": "9dd70396",
   "metadata": {},
   "outputs": [
    {
     "data": {
      "text/plain": [
       "[('A', 'x'), ('B', 'y')]"
      ]
     },
     "execution_count": 3,
     "metadata": {},
     "output_type": "execute_result"
    }
   ],
   "source": [
    "# Quando uma das duas tuplas for maior que a outra,\n",
    "# ele vai retornar listas com o tamanho da tupla menor\n",
    "list(zip('ABCD', 'xy'))"
   ]
  },
  {
   "cell_type": "code",
   "execution_count": null,
   "id": "4693c3bb",
   "metadata": {},
   "outputs": [],
   "source": []
  },
  {
   "cell_type": "code",
   "execution_count": null,
   "id": "2d4fa2bb",
   "metadata": {},
   "outputs": [],
   "source": []
  },
  {
   "cell_type": "code",
   "execution_count": null,
   "id": "285ea8e7",
   "metadata": {},
   "outputs": [],
   "source": []
  },
  {
   "cell_type": "code",
   "execution_count": null,
   "id": "8e567629",
   "metadata": {},
   "outputs": [],
   "source": []
  },
  {
   "cell_type": "code",
   "execution_count": null,
   "id": "e7f6c254",
   "metadata": {},
   "outputs": [],
   "source": []
  },
  {
   "cell_type": "code",
   "execution_count": null,
   "id": "5f30ff89",
   "metadata": {},
   "outputs": [],
   "source": []
  },
  {
   "cell_type": "code",
   "execution_count": null,
   "id": "c072593f",
   "metadata": {},
   "outputs": [],
   "source": []
  },
  {
   "cell_type": "code",
   "execution_count": null,
   "id": "30fec962",
   "metadata": {},
   "outputs": [],
   "source": []
  },
  {
   "cell_type": "code",
   "execution_count": null,
   "id": "66cb9088",
   "metadata": {},
   "outputs": [],
   "source": []
  },
  {
   "cell_type": "code",
   "execution_count": null,
   "id": "51710eca",
   "metadata": {},
   "outputs": [],
   "source": []
  },
  {
   "cell_type": "code",
   "execution_count": null,
   "id": "f685ca4a",
   "metadata": {},
   "outputs": [],
   "source": []
  },
  {
   "cell_type": "code",
   "execution_count": null,
   "id": "09943300",
   "metadata": {},
   "outputs": [],
   "source": []
  },
  {
   "cell_type": "code",
   "execution_count": null,
   "id": "b325a7fa",
   "metadata": {},
   "outputs": [],
   "source": []
  }
 ],
 "metadata": {
  "kernelspec": {
   "display_name": "Python 3",
   "language": "python",
   "name": "python3"
  },
  "language_info": {
   "codemirror_mode": {
    "name": "ipython",
    "version": 3
   },
   "file_extension": ".py",
   "mimetype": "text/x-python",
   "name": "python",
   "nbconvert_exporter": "python",
   "pygments_lexer": "ipython3",
   "version": "3.8.8"
  }
 },
 "nbformat": 4,
 "nbformat_minor": 5
}
