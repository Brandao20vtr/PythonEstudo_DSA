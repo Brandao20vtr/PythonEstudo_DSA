{
 "cells": [
  {
   "cell_type": "markdown",
   "id": "846e78b5",
   "metadata": {},
   "source": [
    "# Zip e Enumerate\n",
    "### Zip()\n",
    "A função zip() agrega os valores de duas sequências e retorna uma tupla.\n",
    "\n",
    "zip() pode ser usado quando o número de elementos for diferente em cada sequência. Mas o objeto resulante terá o mesmo número de elementos da sequência menor.\n",
    "\n",
    "**Exemplo:**\n",
    "\n",
    "    Entrada: zip([1, 2, 3, 4], [1, 2, 3])\n",
    "    Saída: (1, 1) (2, 2) (3, 3)\n",
    "    \n",
    "### Enumerate()\n",
    "A função enumerate permite retornar o índece de cada valor em uma sequência, a medida que você percorre toda a sequência. **Recebe apenas um parâmetro.**\n",
    "\n",
    "Retorna uma tupl no formato tupla(índice, valor).\n",
    "\n",
    "**Exemplo:**\n",
    "\n",
    "    enumerate(sequência)"
   ]
  },
  {
   "cell_type": "markdown",
   "id": "86df604e",
   "metadata": {},
   "source": [
    "# Zip"
   ]
  },
  {
   "cell_type": "code",
   "execution_count": 1,
   "id": "ce0e53ad",
   "metadata": {},
   "outputs": [],
   "source": [
    "# Criando duas listas\n",
    "x = [1, 2, 3]\n",
    "y = [4, 5, 6]"
   ]
  },
  {
   "cell_type": "code",
   "execution_count": 2,
   "id": "467371b6",
   "metadata": {},
   "outputs": [
    {
     "data": {
      "text/plain": [
       "[(1, 4), (2, 5), (3, 6)]"
      ]
     },
     "execution_count": 2,
     "metadata": {},
     "output_type": "execute_result"
    }
   ],
   "source": [
    "# Unindo as listas\n",
    "zip(x, y)   # Em Python3 isso retorna apenas um iterator\n",
    "\n",
    "# Para conseguir visualizar o resultado podemos converter para lista\n",
    "list(zip(x, y))"
   ]
  },
  {
   "cell_type": "code",
   "execution_count": 3,
   "id": "bc4a57a9",
   "metadata": {},
   "outputs": [
    {
     "data": {
      "text/plain": [
       "[('A', 'x'), ('B', 'y')]"
      ]
     },
     "execution_count": 3,
     "metadata": {},
     "output_type": "execute_result"
    }
   ],
   "source": [
    "# Quando uma das duas tuplas for maior que a outra,\n",
    "# ele vai retornar listas com o tamanho da tupla menor\n",
    "list(zip('ABCD', 'xy'))"
   ]
  },
  {
   "cell_type": "code",
   "execution_count": 4,
   "id": "9c26874c",
   "metadata": {},
   "outputs": [
    {
     "data": {
      "text/plain": [
       "[(1, 5), (2, 6), (3, 7), (4, 8)]"
      ]
     },
     "execution_count": 4,
     "metadata": {},
     "output_type": "execute_result"
    }
   ],
   "source": [
    "# Outro exemplo\n",
    "a = [1, 2, 3, 4]   # 4 elementos\n",
    "b = [5, 6, 7, 8, 9, 10]   # 6 elementos\n",
    "\n",
    "list(zip(a, b))"
   ]
  },
  {
   "cell_type": "code",
   "execution_count": 5,
   "id": "96b7c6a1",
   "metadata": {},
   "outputs": [],
   "source": [
    "# Usando a função ZIP em dicioários\n",
    "d1 = {'a':1, 'b':2}\n",
    "d2 = {'c':3, 'd':4}"
   ]
  },
  {
   "cell_type": "code",
   "execution_count": 6,
   "id": "7723c2ce",
   "metadata": {},
   "outputs": [
    {
     "data": {
      "text/plain": [
       "[('a', 'c'), ('b', 'd')]"
      ]
     },
     "execution_count": 6,
     "metadata": {},
     "output_type": "execute_result"
    }
   ],
   "source": [
    "# Aqui vamos unir apenas as chaves os dicionários\n",
    "list(zip(d1, d2))"
   ]
  },
  {
   "cell_type": "code",
   "execution_count": 7,
   "id": "22ffc191",
   "metadata": {},
   "outputs": [
    {
     "data": {
      "text/plain": [
       "[('a', 3), ('b', 4)]"
      ]
     },
     "execution_count": 7,
     "metadata": {},
     "output_type": "execute_result"
    }
   ],
   "source": [
    "# Nesse outro caso podemos unir as chaves com os valores\n",
    "# Adiciona '.values()' no dicionário que desejo retornar os valores\n",
    "list(zip(d1, d2.values()))"
   ]
  },
  {
   "cell_type": "code",
   "execution_count": 8,
   "id": "9061b3dd",
   "metadata": {},
   "outputs": [],
   "source": [
    "# Outra forma de fazer isso é usando um loop for\n",
    "def trocaValores(d1, d2):\n",
    "    dicTemp = {}   # Irá receber os valores\n",
    "    \n",
    "    for d1key, d2val in zip(d1, d2.values()):\n",
    "        dicTemp[d1key] = d2val\n",
    "        \n",
    "    return dicTemp"
   ]
  },
  {
   "cell_type": "code",
   "execution_count": 9,
   "id": "96f5f363",
   "metadata": {},
   "outputs": [
    {
     "data": {
      "text/plain": [
       "{'a': 3, 'b': 4}"
      ]
     },
     "execution_count": 9,
     "metadata": {},
     "output_type": "execute_result"
    }
   ],
   "source": [
    "trocaValores(d1, d2)"
   ]
  },
  {
   "cell_type": "markdown",
   "id": "2136e8c2",
   "metadata": {},
   "source": [
    "# Enumerate"
   ]
  },
  {
   "cell_type": "code",
   "execution_count": 10,
   "id": "d68057dc",
   "metadata": {},
   "outputs": [],
   "source": [
    "# Criando uma lista\n",
    "seq = ['a', 'b', 'c']"
   ]
  },
  {
   "cell_type": "code",
   "execution_count": 11,
   "id": "b324a821",
   "metadata": {},
   "outputs": [
    {
     "data": {
      "text/plain": [
       "<enumerate at 0x2bf970acdc0>"
      ]
     },
     "execution_count": 11,
     "metadata": {},
     "output_type": "execute_result"
    }
   ],
   "source": [
    "# Essa função também retorna o iterator\n",
    "enumerate(seq)"
   ]
  },
  {
   "cell_type": "code",
   "execution_count": 12,
   "id": "d05bcbf3",
   "metadata": {},
   "outputs": [
    {
     "data": {
      "text/plain": [
       "[(0, 'a'), (1, 'b'), (2, 'c')]"
      ]
     },
     "execution_count": 12,
     "metadata": {},
     "output_type": "execute_result"
    }
   ],
   "source": [
    "# Para visualizarmos os valores temos que atribuir ao tipo 'list'\n",
    "list(enumerate(seq))\n",
    "\n",
    "# Faz a enumeração de cada item (em qual posição está) adicioando um índice"
   ]
  },
  {
   "cell_type": "code",
   "execution_count": 13,
   "id": "db0fea24",
   "metadata": {},
   "outputs": [
    {
     "name": "stdout",
     "output_type": "stream",
     "text": [
      "0 a\n",
      "1 b\n",
      "2 c\n"
     ]
    }
   ],
   "source": [
    "# Imprimindo o índice e o valor separadamente usando o FOR\n",
    "for indice, valor in enumerate(seq):   # Pega os val\n",
    "    print(indice, valor)"
   ]
  },
  {
   "cell_type": "code",
   "execution_count": null,
   "id": "4c7d9e70",
   "metadata": {},
   "outputs": [],
   "source": []
  },
  {
   "cell_type": "code",
   "execution_count": null,
   "id": "c435277b",
   "metadata": {},
   "outputs": [],
   "source": []
  },
  {
   "cell_type": "code",
   "execution_count": null,
   "id": "e2faa3ce",
   "metadata": {},
   "outputs": [],
   "source": []
  },
  {
   "cell_type": "code",
   "execution_count": null,
   "id": "11d97fb9",
   "metadata": {},
   "outputs": [],
   "source": []
  },
  {
   "cell_type": "code",
   "execution_count": null,
   "id": "959d1da0",
   "metadata": {},
   "outputs": [],
   "source": []
  }
 ],
 "metadata": {
  "kernelspec": {
   "display_name": "Python 3",
   "language": "python",
   "name": "python3"
  },
  "language_info": {
   "codemirror_mode": {
    "name": "ipython",
    "version": 3
   },
   "file_extension": ".py",
   "mimetype": "text/x-python",
   "name": "python",
   "nbconvert_exporter": "python",
   "pygments_lexer": "ipython3",
   "version": "3.8.8"
  }
 },
 "nbformat": 4,
 "nbformat_minor": 5
}
