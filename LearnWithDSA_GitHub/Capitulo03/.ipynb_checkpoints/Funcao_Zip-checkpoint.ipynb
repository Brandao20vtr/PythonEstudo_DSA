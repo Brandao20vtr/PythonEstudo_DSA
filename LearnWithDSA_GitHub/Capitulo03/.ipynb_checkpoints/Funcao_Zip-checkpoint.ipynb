{
 "cells": [
  {
   "cell_type": "markdown",
   "id": "d537b100",
   "metadata": {},
   "source": [
    "# Zip e Enumerate\n",
    "### Zip()\n",
    "A função zip() agrega os valores de duas sequências e retorna uma tupla.\n",
    "\n",
    "zip() pode ser usado quando o número de elementos for diferente em cada sequência. Mas o objeto resulante terá o mesmo número de elementos da sequência menor.\n",
    "\n",
    "**Exemplo:**\n",
    "\n",
    "    Entrada: zip([1, 2, 3, 4], [1, 2, 3])\n",
    "    Saída: (1, 1) (2, 2) (3, 3)\n",
    "    \n",
    "### Enumerate()\n",
    "A função enumerate permite retornar o índece de cada valor em uma sequência, a medida que você percorre toda a sequência. **Recebe apenas um parâmetro.**\n",
    "\n",
    "Retorna uma tupl no formato tupla(índice, valor).\n",
    "\n",
    "**Exemplo:**\n",
    "\n",
    "    enumerate(sequência)"
   ]
  },
  {
   "cell_type": "markdown",
   "id": "2f040b53",
   "metadata": {},
   "source": [
    "# Zip"
   ]
  },
  {
   "cell_type": "code",
   "execution_count": 1,
   "id": "6cf883a1",
   "metadata": {},
   "outputs": [],
   "source": [
    "# Criando duas listas\n",
    "x = [1, 2, 3]\n",
    "y = [4, 5, 6]"
   ]
  },
  {
   "cell_type": "code",
   "execution_count": 2,
   "id": "dfca80dd",
   "metadata": {},
   "outputs": [
    {
     "data": {
      "text/plain": [
       "[(1, 4), (2, 5), (3, 6)]"
      ]
     },
     "execution_count": 2,
     "metadata": {},
     "output_type": "execute_result"
    }
   ],
   "source": [
    "# Unindo as listas\n",
    "zip(x, y)   # Em Python3 isso retorna apenas um iterator\n",
    "\n",
    "# Para conseguir visualizar o resultado podemos converter para lista\n",
    "list(zip(x, y))"
   ]
  },
  {
   "cell_type": "code",
   "execution_count": 3,
   "id": "d52c5f35",
   "metadata": {},
   "outputs": [
    {
     "data": {
      "text/plain": [
       "[('A', 'x'), ('B', 'y')]"
      ]
     },
     "execution_count": 3,
     "metadata": {},
     "output_type": "execute_result"
    }
   ],
   "source": [
    "# Quando uma das duas tuplas for maior que a outra,\n",
    "# ele vai retornar listas com o tamanho da tupla menor\n",
    "list(zip('ABCD', 'xy'))"
   ]
  },
  {
   "cell_type": "code",
   "execution_count": 4,
   "id": "ecfb1d12",
   "metadata": {},
   "outputs": [
    {
     "data": {
      "text/plain": [
       "[(1, 5), (2, 6), (3, 7), (4, 8)]"
      ]
     },
     "execution_count": 4,
     "metadata": {},
     "output_type": "execute_result"
    }
   ],
   "source": [
    "# Outro exemplo\n",
    "a = [1, 2, 3, 4]   # 4 elementos\n",
    "b = [5, 6, 7, 8, 9, 10]   # 6 elementos\n",
    "\n",
    "list(zip(a, b))"
   ]
  },
  {
   "cell_type": "code",
   "execution_count": 5,
   "id": "5b7d63f1",
   "metadata": {},
   "outputs": [],
   "source": [
    "# Usando a função ZIP em dicioários\n",
    "d1 = {'a':1, 'b':2}\n",
    "d2 = {'c':3, 'd':4}"
   ]
  },
  {
   "cell_type": "code",
   "execution_count": 6,
   "id": "91508e53",
   "metadata": {},
   "outputs": [
    {
     "data": {
      "text/plain": [
       "[('a', 'c'), ('b', 'd')]"
      ]
     },
     "execution_count": 6,
     "metadata": {},
     "output_type": "execute_result"
    }
   ],
   "source": [
    "# Aqui vamos unir apenas as chaves os dicionários\n",
    "list(zip(d1, d2))"
   ]
  },
  {
   "cell_type": "code",
   "execution_count": 7,
   "id": "469f417f",
   "metadata": {},
   "outputs": [
    {
     "data": {
      "text/plain": [
       "[('a', 3), ('b', 4)]"
      ]
     },
     "execution_count": 7,
     "metadata": {},
     "output_type": "execute_result"
    }
   ],
   "source": [
    "# Nesse outro caso podemos unir as chaves com os valores\n",
    "# Adiciona '.values()' no dicionário que desejo retornar os valores\n",
    "list(zip(d1, d2.values()))"
   ]
  },
  {
   "cell_type": "code",
   "execution_count": null,
   "id": "647ad9cb",
   "metadata": {},
   "outputs": [],
   "source": []
  },
  {
   "cell_type": "code",
   "execution_count": null,
   "id": "497ca828",
   "metadata": {},
   "outputs": [],
   "source": []
  },
  {
   "cell_type": "code",
   "execution_count": null,
   "id": "7c65d945",
   "metadata": {},
   "outputs": [],
   "source": []
  },
  {
   "cell_type": "code",
   "execution_count": null,
   "id": "e2f8a952",
   "metadata": {},
   "outputs": [],
   "source": []
  },
  {
   "cell_type": "code",
   "execution_count": null,
   "id": "1e3a2ef5",
   "metadata": {},
   "outputs": [],
   "source": []
  },
  {
   "cell_type": "code",
   "execution_count": null,
   "id": "53cd3411",
   "metadata": {},
   "outputs": [],
   "source": []
  },
  {
   "cell_type": "code",
   "execution_count": null,
   "id": "85049abc",
   "metadata": {},
   "outputs": [],
   "source": []
  },
  {
   "cell_type": "code",
   "execution_count": null,
   "id": "7258760b",
   "metadata": {},
   "outputs": [],
   "source": []
  },
  {
   "cell_type": "code",
   "execution_count": null,
   "id": "0933606b",
   "metadata": {},
   "outputs": [],
   "source": []
  }
 ],
 "metadata": {
  "kernelspec": {
   "display_name": "Python 3",
   "language": "python",
   "name": "python3"
  },
  "language_info": {
   "codemirror_mode": {
    "name": "ipython",
    "version": 3
   },
   "file_extension": ".py",
   "mimetype": "text/x-python",
   "name": "python",
   "nbconvert_exporter": "python",
   "pygments_lexer": "ipython3",
   "version": "3.8.8"
  }
 },
 "nbformat": 4,
 "nbformat_minor": 5
}
