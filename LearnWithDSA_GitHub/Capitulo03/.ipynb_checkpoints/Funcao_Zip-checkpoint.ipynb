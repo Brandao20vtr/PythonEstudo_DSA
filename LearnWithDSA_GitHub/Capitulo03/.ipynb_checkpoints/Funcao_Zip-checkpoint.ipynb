{
 "cells": [
  {
   "cell_type": "markdown",
   "id": "e1c03fdc",
   "metadata": {},
   "source": [
    "# Zip e Enumerate\n",
    "### Zip()\n",
    "A função zip() agrega os valores de duas sequências e retorna uma tupla.\n",
    "\n",
    "zip() pode ser usado quando o número de elementos for diferente em cada sequência. Mas o objeto resulante terá o mesmo número de elementos da sequência menor.\n",
    "\n",
    "**Exemplo:**\n",
    "\n",
    "    Entrada: zip([1, 2, 3, 4], [1, 2, 3])\n",
    "    Saída: (1, 1) (2, 2) (3, 3)\n",
    "    \n",
    "### Enumerate()\n",
    "A função enumerate permite retornar o índece de cada valor em uma sequência, a medida que você percorre toda a sequência. **Recebe apenas um parâmetro.**\n",
    "\n",
    "Retorna uma tupl no formato tupla(índice, valor).\n",
    "\n",
    "**Exemplo:**\n",
    "\n",
    "    enumerate(sequência)"
   ]
  },
  {
   "cell_type": "markdown",
   "id": "d6f2edef",
   "metadata": {},
   "source": [
    "# Zip"
   ]
  },
  {
   "cell_type": "code",
   "execution_count": 1,
   "id": "e6971d43",
   "metadata": {},
   "outputs": [],
   "source": [
    "# Criando duas listas\n",
    "x = [1, 2, 3]\n",
    "y = [4, 5, 6]"
   ]
  },
  {
   "cell_type": "code",
   "execution_count": 2,
   "id": "f1eefef1",
   "metadata": {},
   "outputs": [
    {
     "data": {
      "text/plain": [
       "[(1, 4), (2, 5), (3, 6)]"
      ]
     },
     "execution_count": 2,
     "metadata": {},
     "output_type": "execute_result"
    }
   ],
   "source": [
    "# Unindo as listas\n",
    "zip(x, y)   # Em Python3 isso retorna apenas um iterator\n",
    "\n",
    "# Para conseguir visualizar o resultado podemos converter para lista\n",
    "list(zip(x, y))"
   ]
  },
  {
   "cell_type": "code",
   "execution_count": 3,
   "id": "7c135f23",
   "metadata": {},
   "outputs": [
    {
     "data": {
      "text/plain": [
       "[('A', 'x'), ('B', 'y')]"
      ]
     },
     "execution_count": 3,
     "metadata": {},
     "output_type": "execute_result"
    }
   ],
   "source": [
    "# Quando uma das duas tuplas for maior que a outra,\n",
    "# ele vai retornar listas com o tamanho da tupla menor\n",
    "list(zip('ABCD', 'xy'))"
   ]
  },
  {
   "cell_type": "code",
   "execution_count": 4,
   "id": "8c403418",
   "metadata": {},
   "outputs": [
    {
     "data": {
      "text/plain": [
       "[(1, 5), (2, 6), (3, 7), (4, 8)]"
      ]
     },
     "execution_count": 4,
     "metadata": {},
     "output_type": "execute_result"
    }
   ],
   "source": [
    "# Outro exemplo\n",
    "a = [1, 2, 3, 4]   # 4 elementos\n",
    "b = [5, 6, 7, 8, 9, 10]   # 6 elementos\n",
    "\n",
    "list(zip(a, b))"
   ]
  },
  {
   "cell_type": "code",
   "execution_count": 5,
   "id": "457448d5",
   "metadata": {},
   "outputs": [],
   "source": [
    "# Usando a função ZIP em dicioários\n",
    "d1 = {'a':1, 'b':2}\n",
    "d2 = {'c':3, 'd':4}"
   ]
  },
  {
   "cell_type": "code",
   "execution_count": 6,
   "id": "8767de62",
   "metadata": {},
   "outputs": [
    {
     "data": {
      "text/plain": [
       "[('a', 'c'), ('b', 'd')]"
      ]
     },
     "execution_count": 6,
     "metadata": {},
     "output_type": "execute_result"
    }
   ],
   "source": [
    "# Aqui vamos unir apenas as chaves os dicionários\n",
    "list(zip(d1, d2))"
   ]
  },
  {
   "cell_type": "code",
   "execution_count": 7,
   "id": "35618920",
   "metadata": {},
   "outputs": [
    {
     "data": {
      "text/plain": [
       "[('a', 3), ('b', 4)]"
      ]
     },
     "execution_count": 7,
     "metadata": {},
     "output_type": "execute_result"
    }
   ],
   "source": [
    "# Nesse outro caso podemos unir as chaves com os valores\n",
    "# Adiciona '.values()' no dicionário que desejo retornar os valores\n",
    "list(zip(d1, d2.values()))"
   ]
  },
  {
   "cell_type": "code",
   "execution_count": 8,
   "id": "83f3a0d6",
   "metadata": {},
   "outputs": [],
   "source": [
    "# Outra forma de fazer isso é usando um loop for\n",
    "def trocaValores(d1, d2):\n",
    "    dicTemp = {}   # Irá receber os valores\n",
    "    \n",
    "    for d1key, d2val in zip(d1, d2.values()):\n",
    "        dicTemp[d1key] = d2val\n",
    "        \n",
    "    return dicTemp"
   ]
  },
  {
   "cell_type": "code",
   "execution_count": 9,
   "id": "5da2a6d6",
   "metadata": {},
   "outputs": [
    {
     "data": {
      "text/plain": [
       "{'a': 3, 'b': 4}"
      ]
     },
     "execution_count": 9,
     "metadata": {},
     "output_type": "execute_result"
    }
   ],
   "source": [
    "trocaValores(d1, d2)"
   ]
  },
  {
   "cell_type": "markdown",
   "id": "2a782e27",
   "metadata": {},
   "source": [
    "# Enumerate"
   ]
  },
  {
   "cell_type": "code",
   "execution_count": 10,
   "id": "0d71e0a1",
   "metadata": {},
   "outputs": [],
   "source": [
    "# Criando uma lista\n",
    "seq = ['a', 'b', 'c']"
   ]
  },
  {
   "cell_type": "code",
   "execution_count": 11,
   "id": "212061c9",
   "metadata": {},
   "outputs": [
    {
     "data": {
      "text/plain": [
       "<enumerate at 0x2bf970acdc0>"
      ]
     },
     "execution_count": 11,
     "metadata": {},
     "output_type": "execute_result"
    }
   ],
   "source": [
    "# Essa função também retorna o iterator\n",
    "enumerate(seq)"
   ]
  },
  {
   "cell_type": "code",
   "execution_count": 12,
   "id": "1151be28",
   "metadata": {},
   "outputs": [
    {
     "data": {
      "text/plain": [
       "[(0, 'a'), (1, 'b'), (2, 'c')]"
      ]
     },
     "execution_count": 12,
     "metadata": {},
     "output_type": "execute_result"
    }
   ],
   "source": [
    "# Para visualizarmos os valores temos que atribuir ao tipo 'list'\n",
    "list(enumerate(seq))\n",
    "\n",
    "# Faz a enumeração de cada item (em qual posição está)"
   ]
  },
  {
   "cell_type": "code",
   "execution_count": null,
   "id": "80b8fb60",
   "metadata": {},
   "outputs": [],
   "source": []
  },
  {
   "cell_type": "code",
   "execution_count": null,
   "id": "de2d652a",
   "metadata": {},
   "outputs": [],
   "source": []
  },
  {
   "cell_type": "code",
   "execution_count": null,
   "id": "9db9779f",
   "metadata": {},
   "outputs": [],
   "source": []
  },
  {
   "cell_type": "code",
   "execution_count": null,
   "id": "ec514e73",
   "metadata": {},
   "outputs": [],
   "source": []
  },
  {
   "cell_type": "code",
   "execution_count": null,
   "id": "ed83c6a8",
   "metadata": {},
   "outputs": [],
   "source": []
  },
  {
   "cell_type": "code",
   "execution_count": null,
   "id": "023a367c",
   "metadata": {},
   "outputs": [],
   "source": []
  }
 ],
 "metadata": {
  "kernelspec": {
   "display_name": "Python 3",
   "language": "python",
   "name": "python3"
  },
  "language_info": {
   "codemirror_mode": {
    "name": "ipython",
    "version": 3
   },
   "file_extension": ".py",
   "mimetype": "text/x-python",
   "name": "python",
   "nbconvert_exporter": "python",
   "pygments_lexer": "ipython3",
   "version": "3.8.8"
  }
 },
 "nbformat": 4,
 "nbformat_minor": 5
}
