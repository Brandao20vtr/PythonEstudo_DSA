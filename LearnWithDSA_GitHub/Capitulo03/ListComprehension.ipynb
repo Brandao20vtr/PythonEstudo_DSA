{
 "cells": [
  {
   "cell_type": "markdown",
   "id": "69e894b6",
   "metadata": {},
   "source": [
    "# List Comprehension\n",
    "Aplica uma expressão arbitrária (ao invés de aplicar apenas uma função) a uma sequência de elementos.\n",
    "\n",
    "Permite desenvolver listas usando una notação diferente. Seria essencialmente uma linha de **_loop for_**, construída dentro de [].\n",
    "\n",
    "**Exemplo:**\n",
    "\n",
    "    lst = [x for x in 'sequência']"
   ]
  },
  {
   "cell_type": "code",
   "execution_count": 3,
   "id": "8d8c1190",
   "metadata": {},
   "outputs": [],
   "source": [
    "# Vamos retornar cada caracter em uma sequência de caracteres\n",
    "lst = [x for x in 'Ciência']"
   ]
  },
  {
   "cell_type": "code",
   "execution_count": 4,
   "id": "79459896",
   "metadata": {},
   "outputs": [
    {
     "data": {
      "text/plain": [
       "['C', 'i', 'ê', 'n', 'c', 'i', 'a']"
      ]
     },
     "execution_count": 4,
     "metadata": {},
     "output_type": "execute_result"
    }
   ],
   "source": [
    "# Check\n",
    "lst\n",
    "\n",
    "# Essa função coloca em uma lista cada elemento de uma sequência de elementos separadamente"
   ]
  },
  {
   "cell_type": "code",
   "execution_count": 5,
   "id": "587eecf7",
   "metadata": {},
   "outputs": [
    {
     "data": {
      "text/plain": [
       "list"
      ]
     },
     "execution_count": 5,
     "metadata": {},
     "output_type": "execute_result"
    }
   ],
   "source": [
    "# Verificando se é mesmo uma lista\n",
    "type(lst)"
   ]
  },
  {
   "cell_type": "code",
   "execution_count": 6,
   "id": "4c8f3a4b",
   "metadata": {},
   "outputs": [],
   "source": [
    "# Multiplicando os valores que estão em um range de números\n",
    "lst = [x**2 for x in range(0, 11)]"
   ]
  },
  {
   "cell_type": "code",
   "execution_count": 7,
   "id": "6ce9dbdf",
   "metadata": {},
   "outputs": [
    {
     "data": {
      "text/plain": [
       "[0, 1, 4, 9, 16, 25, 36, 49, 64, 81, 100]"
      ]
     },
     "execution_count": 7,
     "metadata": {},
     "output_type": "execute_result"
    }
   ],
   "source": [
    "# Check\n",
    "lst\n",
    "\n",
    "# Multiplicou cada número do range ao quadrado"
   ]
  },
  {
   "cell_type": "code",
   "execution_count": null,
   "id": "aa6f9b11",
   "metadata": {},
   "outputs": [],
   "source": []
  },
  {
   "cell_type": "code",
   "execution_count": null,
   "id": "4bfc4af7",
   "metadata": {},
   "outputs": [],
   "source": []
  },
  {
   "cell_type": "code",
   "execution_count": null,
   "id": "16757bf8",
   "metadata": {},
   "outputs": [],
   "source": []
  },
  {
   "cell_type": "code",
   "execution_count": null,
   "id": "081d2201",
   "metadata": {},
   "outputs": [],
   "source": []
  },
  {
   "cell_type": "code",
   "execution_count": null,
   "id": "092cde37",
   "metadata": {},
   "outputs": [],
   "source": []
  },
  {
   "cell_type": "code",
   "execution_count": null,
   "id": "3b007384",
   "metadata": {},
   "outputs": [],
   "source": []
  },
  {
   "cell_type": "code",
   "execution_count": null,
   "id": "ae0a8396",
   "metadata": {},
   "outputs": [],
   "source": []
  },
  {
   "cell_type": "code",
   "execution_count": null,
   "id": "37d37d2b",
   "metadata": {},
   "outputs": [],
   "source": []
  },
  {
   "cell_type": "code",
   "execution_count": null,
   "id": "fb8969fd",
   "metadata": {},
   "outputs": [],
   "source": []
  },
  {
   "cell_type": "code",
   "execution_count": null,
   "id": "d9dd19de",
   "metadata": {},
   "outputs": [],
   "source": []
  },
  {
   "cell_type": "code",
   "execution_count": null,
   "id": "7c57531c",
   "metadata": {},
   "outputs": [],
   "source": []
  },
  {
   "cell_type": "code",
   "execution_count": null,
   "id": "d693b6c9",
   "metadata": {},
   "outputs": [],
   "source": []
  },
  {
   "cell_type": "code",
   "execution_count": null,
   "id": "4653bcf7",
   "metadata": {},
   "outputs": [],
   "source": []
  },
  {
   "cell_type": "code",
   "execution_count": null,
   "id": "bc8d6a98",
   "metadata": {},
   "outputs": [],
   "source": []
  }
 ],
 "metadata": {
  "kernelspec": {
   "display_name": "Python 3",
   "language": "python",
   "name": "python3"
  },
  "language_info": {
   "codemirror_mode": {
    "name": "ipython",
    "version": 3
   },
   "file_extension": ".py",
   "mimetype": "text/x-python",
   "name": "python",
   "nbconvert_exporter": "python",
   "pygments_lexer": "ipython3",
   "version": "3.8.8"
  }
 },
 "nbformat": 4,
 "nbformat_minor": 5
}
