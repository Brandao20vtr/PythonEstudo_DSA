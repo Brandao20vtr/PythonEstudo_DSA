{
 "cells": [
  {
   "cell_type": "markdown",
   "id": "3bbcc32a",
   "metadata": {},
   "source": [
    "# List Comprehension\n",
    "Aplica uma expressão arbitrária (ao invés de aplicar apenas uma função) a uma sequência de elementos.\n",
    "\n",
    "Permite desenvolver listas usando una notação diferente. Seria essencialmente uma linha de **_loop for_**, construída dentro de [].\n",
    "\n",
    "**Exemplo:**\n",
    "\n",
    "    list = [x for x in 'sequência']"
   ]
  },
  {
   "cell_type": "code",
   "execution_count": null,
   "id": "f87b6342",
   "metadata": {},
   "outputs": [],
   "source": []
  },
  {
   "cell_type": "code",
   "execution_count": null,
   "id": "5bdd45fb",
   "metadata": {},
   "outputs": [],
   "source": []
  },
  {
   "cell_type": "code",
   "execution_count": null,
   "id": "dd2cdef9",
   "metadata": {},
   "outputs": [],
   "source": []
  },
  {
   "cell_type": "code",
   "execution_count": null,
   "id": "ad8ef9bf",
   "metadata": {},
   "outputs": [],
   "source": []
  },
  {
   "cell_type": "code",
   "execution_count": null,
   "id": "1a79336c",
   "metadata": {},
   "outputs": [],
   "source": []
  }
 ],
 "metadata": {
  "kernelspec": {
   "display_name": "Python 3",
   "language": "python",
   "name": "python3"
  },
  "language_info": {
   "codemirror_mode": {
    "name": "ipython",
    "version": 3
   },
   "file_extension": ".py",
   "mimetype": "text/x-python",
   "name": "python",
   "nbconvert_exporter": "python",
   "pygments_lexer": "ipython3",
   "version": "3.8.8"
  }
 },
 "nbformat": 4,
 "nbformat_minor": 5
}
